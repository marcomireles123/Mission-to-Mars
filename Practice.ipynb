{
 "cells": [
  {
   "cell_type": "code",
   "execution_count": 1,
   "id": "b4319d1b",
   "metadata": {},
   "outputs": [],
   "source": [
    "# 11.5.1 Performing an Automated Web Scrape\n",
    "\n",
    "# Import scraping tools\n",
    "\n",
    "# Splinter for browser instance \n",
    "from splinter import Browser\n",
    "\n",
    "# Beautiful Soup object \n",
    "from bs4 import BeautifulSoup as soup\n",
    "\n",
    "# Driver object for chrome\n",
    "from webdriver_manager.chrome import ChromeDriverManager"
   ]
  },
  {
   "cell_type": "code",
   "execution_count": 2,
   "id": "5175a296",
   "metadata": {},
   "outputs": [],
   "source": [
    "executable_path = {'executable_path': ChromeDriverManager().install()}\n",
    "\n",
    "browser = Browser('chrome', **executable_path, headless=False)"
   ]
  }
 ],
 "metadata": {
  "kernelspec": {
   "display_name": "Python 3 (ipykernel)",
   "language": "python",
   "name": "python3"
  },
  "language_info": {
   "codemirror_mode": {
    "name": "ipython",
    "version": 3
   },
   "file_extension": ".py",
   "mimetype": "text/x-python",
   "name": "python",
   "nbconvert_exporter": "python",
   "pygments_lexer": "ipython3",
   "version": "3.9.12"
  }
 },
 "nbformat": 4,
 "nbformat_minor": 5
}
