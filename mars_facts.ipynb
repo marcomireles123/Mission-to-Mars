{
 "cells": [
  {
   "cell_type": "code",
   "execution_count": 1,
   "id": "02a2946a",
   "metadata": {},
   "outputs": [],
   "source": [
    "# 11.6.2 Scraping Mars Facts\n",
    "\n",
    "from splinter import Browser\n",
    "from bs4 import BeautifulSoup as soup\n",
    "from webdriver_manager.chrome import ChromeDriverManager\n",
    "\n",
    "# Set up Splinter\n",
    "executable_path = {'executable_path': ChromeDriverManager().install()}\n",
    "browser = Browser('chrome', **executable_path, headless=False)\n",
    "\n",
    "# Visit the Mars Facts site\n",
    "url = 'https://galaxyfacts-mars.com/'\n",
    "browser.visit(url)\n",
    "\n",
    "html = browser.html\n",
    "html_soup = soup(html, 'html.parser')"
   ]
  },
  {
   "cell_type": "code",
   "execution_count": 2,
   "id": "d5831e12",
   "metadata": {},
   "outputs": [],
   "source": [
    "# Find the table\n",
    "table = html_soup.find('table', class_='table-striped')"
   ]
  },
  {
   "cell_type": "code",
   "execution_count": 3,
   "id": "6c2ada5c",
   "metadata": {},
   "outputs": [],
   "source": [
    "# store the table data in a Python data structure\n",
    "\n",
    "# Create a dictionary named 'mars_facts' to hold table data\n",
    "mars_facts = {}\n",
    "\n",
    "# Use 'find_all' method to to find all table rows ('tr')\n",
    "# Save the table rows in the rows variable\n",
    "rows = table.find_all('tr')\n",
    "\n",
    "# Make a for loop so the row's table header('th') gets saved to row_heading variable\n",
    "for row in rows:\n",
    "    row_heading = row.find('th').text\n",
    "    \n",
    "    # The text of the row's table data ('td') gets extracted \n",
    "    # Strip() method, will strip any white space that the is contained in the text \n",
    "    # Text then gets saved to row_data Variable\n",
    "    row_data = row.find('td').text.strip()\n",
    "    \n",
    "    # The row becomes an entry in the mars_facts dict. \n",
    "    # Table heading becomes a key \n",
    "    # Table data becomes the value\n",
    "    mars_facts[row_heading] = row_data"
   ]
  },
  {
   "cell_type": "code",
   "execution_count": 5,
   "id": "e7aeb5a5",
   "metadata": {},
   "outputs": [
    {
     "data": {
      "text/plain": [
       "{'Equatorial Diameter:': '6,792 km',\n",
       " 'Polar Diameter:': '6,752 km',\n",
       " 'Mass:': '6.39 × 10^23 kg (0.11 Earths)',\n",
       " 'Moons:': '2 ( Phobos  &  Deimos )',\n",
       " 'Orbit Distance:': '227,943,824 km (1.38 AU)',\n",
       " 'Orbit Period:': '687 days (1.9 years)',\n",
       " 'Surface Temperature:': '-87 to -5 °C',\n",
       " 'First Record:': '2nd millennium BC',\n",
       " 'Recorded By:': 'Egyptian astronomers'}"
      ]
     },
     "execution_count": 5,
     "metadata": {},
     "output_type": "execute_result"
    }
   ],
   "source": [
    "mars_facts"
   ]
  },
  {
   "cell_type": "code",
   "execution_count": 6,
   "id": "8642cee4",
   "metadata": {},
   "outputs": [],
   "source": [
    "browser.quit()"
   ]
  }
 ],
 "metadata": {
  "kernelspec": {
   "display_name": "Python 3 (ipykernel)",
   "language": "python",
   "name": "python3"
  },
  "language_info": {
   "codemirror_mode": {
    "name": "ipython",
    "version": 3
   },
   "file_extension": ".py",
   "mimetype": "text/x-python",
   "name": "python",
   "nbconvert_exporter": "python",
   "pygments_lexer": "ipython3",
   "version": "3.9.12"
  }
 },
 "nbformat": 4,
 "nbformat_minor": 5
}
