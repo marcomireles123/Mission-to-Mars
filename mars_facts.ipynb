{
 "cells": [
  {
   "cell_type": "code",
   "execution_count": 1,
   "id": "a5540550",
   "metadata": {},
   "outputs": [],
   "source": [
    "# 11.6.2 Scraping Mars Facts\n",
    "\n",
    "from splinter import Browser\n",
    "from bs4 import BeautifulSoup as soup\n",
    "from webdriver_manager.chrome import ChromeDriverManager\n",
    "\n",
    "# Set up Splinter\n",
    "executable_path = {'executable_path': ChromeDriverManager().install()}\n",
    "browser = Browser('chrome', **executable_path, headless=False)\n",
    "\n",
    "# Visit the Mars Facts site\n",
    "url = 'https://galaxyfacts-mars.com/'\n",
    "browser.visit(url)\n",
    "\n",
    "html = browser.html\n",
    "html_soup = soup(html, 'html.parser')"
   ]
  },
  {
   "cell_type": "code",
   "execution_count": 2,
   "id": "161da307",
   "metadata": {},
   "outputs": [],
   "source": [
    "# Find the table\n",
    "table = html_soup.find('table', class_='table-striped')"
   ]
  },
  {
   "cell_type": "code",
   "execution_count": 3,
   "id": "e664f8da",
   "metadata": {},
   "outputs": [],
   "source": [
    "# store the table data in a Python data structure\n",
    "\n",
    "# Create a dictionary named 'mars_facts' to hold table data\n",
    "mars_facts = {}\n",
    "rows = table.find_all('tr')\n",
    "for row in rows:\n",
    "    row_heading = row.find('th').text\n",
    "    row_data = row.find('td').text.strip()\n",
    "    mars_facts[row_heading] = row_data"
   ]
  },
  {
   "cell_type": "code",
   "execution_count": null,
   "id": "d1e88b92",
   "metadata": {},
   "outputs": [],
   "source": []
  }
 ],
 "metadata": {
  "kernelspec": {
   "display_name": "Python 3 (ipykernel)",
   "language": "python",
   "name": "python3"
  },
  "language_info": {
   "codemirror_mode": {
    "name": "ipython",
    "version": 3
   },
   "file_extension": ".py",
   "mimetype": "text/x-python",
   "name": "python",
   "nbconvert_exporter": "python",
   "pygments_lexer": "ipython3",
   "version": "3.9.12"
  }
 },
 "nbformat": 4,
 "nbformat_minor": 5
}
